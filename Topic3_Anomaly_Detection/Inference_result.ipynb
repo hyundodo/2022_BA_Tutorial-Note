{
 "cells": [
  {
   "cell_type": "markdown",
   "metadata": {},
   "source": [
    "# Tutorial Note\n",
    "이번 이상치 탐지에서의 tutorial은 AutoEncoder를 활용한 탐지 성능에 대해 간단하게 실험해봅니다. Tutorial의 목적은 다음과 같습니다.\n",
    "\n",
    "- naive AutoEncoder, Denoising AutoEncoder, Convolutional AutoEncoder, Convolutional Denoising AutoEncoder 구현 및 학습\n",
    "- 각 모델별 MNIST 데이터셋의 하나의 클래스 이미지를 학습한 뒤, 다른 클래스 이미지를 입력했을 때의 결과 비교\n",
    "\n",
    "먼저, 아래의 Tutorial에 앞서 각 AutoEncoder들은 .py로 구현하고 terminal 환경에서 학습을 수행했으며, 학습된 모델을 가져와 아래 내용의 Tutorial을 진행했습니다."
   ]
  },
  {
   "cell_type": "code",
   "execution_count": 136,
   "metadata": {},
   "outputs": [],
   "source": [
    "import torch\n",
    "import torch.nn as nn\n",
    "import torchvision\n",
    "import torchvision.transforms as transforms\n",
    "\n",
    "import matplotlib.pyplot as plt\n",
    "from tqdm import tqdm\n",
    "\n",
    "from AutoEncoders import Autoencoder, Denoising_Autoencoder\n",
    "from Conv_AutoEncoders import Conv_Autoencoder, Conv_Denoising_Autoencoder"
   ]
  },
  {
   "cell_type": "markdown",
   "metadata": {},
   "source": [
    "Test를 위한 데이터셋 불러옵니다.\n",
    "- MNIST 숫자 5의 이미지\n",
    "- MNIST 숫자 8의 이미지"
   ]
  },
  {
   "cell_type": "code",
   "execution_count": 2,
   "metadata": {},
   "outputs": [],
   "source": [
    "# test download for inference\n",
    "test_set = torchvision.datasets.MNIST(\n",
    "    root = './data/MNIST',\n",
    "    train = False,\n",
    "    download = True,\n",
    "    transform = transforms.ToTensor())"
   ]
  },
  {
   "cell_type": "code",
   "execution_count": 149,
   "metadata": {},
   "outputs": [
    {
     "name": "stderr",
     "output_type": "stream",
     "text": [
      "100%|██████████| 10000/10000 [00:00<00:00, 11534.04it/s]\n"
     ]
    }
   ],
   "source": [
    "test_five = []\n",
    "test_eight = []\n",
    "\n",
    "for i in tqdm(range(len(test_set))):\n",
    "    if test_set[i][1] == 5:\n",
    "        test_five.append(test_set[i][0])\n",
    "    elif test_set[i][1] == 8:\n",
    "        test_eight.append(test_set[i][0])\n",
    "\n",
    "test_five = test_five[700:]\n",
    "test_five = torch.stack(test_five)\n",
    "test_eight = torch.stack(test_eight)"
   ]
  },
  {
   "cell_type": "markdown",
   "metadata": {},
   "source": [
    "가져온 테스트 이미지를 시각화해보겠습니다. 임의의 데이터 5개를 뽑아 대표적으로 시각화를 수행해보았습니다.\n",
    "해당 샘플 데이터들을 대상으로 학습된 AutoEncoder들을 이용해 추론한 결과와 비교해보도록 하겠습니다."
   ]
  },
  {
   "cell_type": "code",
   "execution_count": 172,
   "metadata": {},
   "outputs": [
    {
     "data": {
      "image/png": "[encoded data removed]",
      "text/plain": [
       "<Figure size 1000x400 with 5 Axes>"
      ]
     },
     "metadata": {},
     "output_type": "display_data"
    },
    {
     "data": {
      "image/png": "[encoded data removed]",
      "text/plain": [
       "<Figure size 1000x400 with 5 Axes>"
      ]
     },
     "metadata": {},
     "output_type": "display_data"
    }
   ],
   "source": [
    "sample = [7, 14, 20, 27, 45]\n",
    "\n",
    "plt.figure(figsize=(10,4))\n",
    "plt.subplot(1, 5, 1)\n",
    "plt.imshow(test_five[sample[0]].reshape(28,28), cmap=plt.cm.gray_r)\n",
    "plt.subplot(1, 5, 2)\n",
    "plt.imshow(test_five[sample[1]].reshape(28,28), cmap=plt.cm.gray_r)\n",
    "plt.subplot(1, 5, 3)\n",
    "plt.imshow(test_five[sample[2]].reshape(28,28), cmap=plt.cm.gray_r)\n",
    "plt.subplot(1, 5, 4)\n",
    "plt.imshow(test_five[sample[3]].reshape(28,28), cmap=plt.cm.gray_r)\n",
    "plt.subplot(1, 5, 5)\n",
    "plt.imshow(test_five[sample[4]].reshape(28,28), cmap=plt.cm.gray_r)\n",
    "\n",
    "plt.figure(figsize=(10,4))\n",
    "plt.subplot(1, 5, 1)\n",
    "plt.imshow(test_eight[sample[0]].reshape(28,28), cmap=plt.cm.gray_r)\n",
    "plt.subplot(1, 5, 2)\n",
    "plt.imshow(test_eight[sample[1]].reshape(28,28), cmap=plt.cm.gray_r)\n",
    "plt.subplot(1, 5, 3)\n",
    "plt.imshow(test_eight[sample[2]].reshape(28,28), cmap=plt.cm.gray_r)\n",
    "plt.subplot(1, 5, 4)\n",
    "plt.imshow(test_eight[sample[3]].reshape(28,28), cmap=plt.cm.gray_r)\n",
    "plt.subplot(1, 5, 5)\n",
    "plt.imshow(test_eight[sample[4]].reshape(28,28), cmap=plt.cm.gray_r)\n",
    "plt.show()"
   ]
  },
  {
   "cell_type": "markdown",
   "metadata": {},
   "source": [
    "## 1. AutoEncoder\n",
    "학습한 모델의 마지막 epoch에 저장된 가중치들을 가져와 추론에 사용했습니다."
   ]
  },
  {
   "cell_type": "code",
   "execution_count": 101,
   "metadata": {},
   "outputs": [
    {
     "data": {
      "text/plain": [
       "Autoencoder(\n",
       "  (encoder): Sequential(\n",
       "    (0): Linear(in_features=784, out_features=512, bias=True)\n",
       "    (1): BatchNorm1d(512, eps=1e-05, momentum=0.1, affine=True, track_running_stats=True)\n",
       "    (2): ReLU()\n",
       "    (3): Linear(in_features=512, out_features=256, bias=True)\n",
       "    (4): BatchNorm1d(256, eps=1e-05, momentum=0.1, affine=True, track_running_stats=True)\n",
       "    (5): ReLU()\n",
       "    (6): Linear(in_features=256, out_features=128, bias=True)\n",
       "    (7): BatchNorm1d(128, eps=1e-05, momentum=0.1, affine=True, track_running_stats=True)\n",
       "    (8): ReLU()\n",
       "    (9): Linear(in_features=128, out_features=64, bias=True)\n",
       "    (10): BatchNorm1d(64, eps=1e-05, momentum=0.1, affine=True, track_running_stats=True)\n",
       "    (11): ReLU()\n",
       "    (12): Linear(in_features=64, out_features=32, bias=True)\n",
       "    (13): BatchNorm1d(32, eps=1e-05, momentum=0.1, affine=True, track_running_stats=True)\n",
       "    (14): ReLU()\n",
       "    (15): Linear(in_features=32, out_features=16, bias=True)\n",
       "    (16): ReLU()\n",
       "  )\n",
       "  (decoder): Sequential(\n",
       "    (0): Linear(in_features=16, out_features=32, bias=True)\n",
       "    (1): BatchNorm1d(32, eps=1e-05, momentum=0.1, affine=True, track_running_stats=True)\n",
       "    (2): ReLU()\n",
       "    (3): Linear(in_features=32, out_features=64, bias=True)\n",
       "    (4): BatchNorm1d(64, eps=1e-05, momentum=0.1, affine=True, track_running_stats=True)\n",
       "    (5): ReLU()\n",
       "    (6): Linear(in_features=64, out_features=128, bias=True)\n",
       "    (7): BatchNorm1d(128, eps=1e-05, momentum=0.1, affine=True, track_running_stats=True)\n",
       "    (8): ReLU()\n",
       "    (9): Linear(in_features=128, out_features=256, bias=True)\n",
       "    (10): BatchNorm1d(256, eps=1e-05, momentum=0.1, affine=True, track_running_stats=True)\n",
       "    (11): ReLU()\n",
       "    (12): Linear(in_features=256, out_features=512, bias=True)\n",
       "    (13): BatchNorm1d(512, eps=1e-05, momentum=0.1, affine=True, track_running_stats=True)\n",
       "    (14): ReLU()\n",
       "    (15): Linear(in_features=512, out_features=784, bias=True)\n",
       "    (16): Sigmoid()\n",
       "  )\n",
       ")"
      ]
     },
     "execution_count": 101,
     "metadata": {},
     "output_type": "execute_result"
    }
   ],
   "source": [
    "model_AE = Autoencoder()\n",
    "model_AE.load_state_dict(torch.load(\"./save_AE/ae_300.pth\"))\n",
    "model_AE.eval()"
   ]
  },
  {
   "cell_type": "markdown",
   "metadata": {},
   "source": [
    "앞서 선정한 샘플 데이터들에 대해 추론을 수행한 뒤, 시각화해보았습니다. 시각화의 첫번째 행은 같은 class인 숫자 5를 입력했을 경우 복원한 이미지이며, 두번째 행은 숫자 8에 대한 이미지를 입력했을 경우의 복원 결과입니다. 5에 대해서만 학습했기 때문에 완벽하게 8로 복원하지 못하고 있음을 확인할 수 있습니다."
   ]
  },
  {
   "cell_type": "code",
   "execution_count": 173,
   "metadata": {},
   "outputs": [],
   "source": [
    "result_from_AE = []\n",
    "for i in sample:\n",
    "    images = test_five[i].unsqueeze_(0)\n",
    "    images = images.view(-1, 28*28)\n",
    "    with torch.no_grad():\n",
    "        _, decoded = model_AE(images)\n",
    "        result_from_AE.append(decoded)\n",
    "\n",
    "for i in sample:\n",
    "    images = test_eight[i].unsqueeze_(0)\n",
    "    images = images.view(-1, 28*28)\n",
    "    with torch.no_grad():\n",
    "        _, decoded = model_AE(images)\n",
    "        result_from_AE.append(decoded)"
   ]
  },
  {
   "cell_type": "code",
   "execution_count": 174,
   "metadata": {},
   "outputs": [
    {
     "data": {
      "image/png": "[encoded data removed]",
      "text/plain": [
       "<Figure size 1000x400 with 5 Axes>"
      ]
     },
     "metadata": {},
     "output_type": "display_data"
    },
    {
     "data": {
      "image/png": "[encoded data removed]",
      "text/plain": [
       "<Figure size 1000x400 with 5 Axes>"
      ]
     },
     "metadata": {},
     "output_type": "display_data"
    }
   ],
   "source": [
    "plt.figure(figsize=(10,4))\n",
    "plt.subplot(1, 5, 1)\n",
    "plt.imshow(result_from_AE[0].reshape(28,28,1), cmap=plt.cm.gray_r)\n",
    "plt.subplot(1, 5, 2)\n",
    "plt.imshow(result_from_AE[1].reshape(28,28,1), cmap=plt.cm.gray_r)\n",
    "plt.subplot(1, 5, 3)\n",
    "plt.imshow(result_from_AE[2].reshape(28,28,1), cmap=plt.cm.gray_r)\n",
    "plt.subplot(1, 5, 4)\n",
    "plt.imshow(result_from_AE[3].reshape(28,28,1), cmap=plt.cm.gray_r)\n",
    "plt.subplot(1, 5, 5)\n",
    "plt.imshow(result_from_AE[4].reshape(28,28,1), cmap=plt.cm.gray_r)\n",
    "\n",
    "plt.figure(figsize=(10,4))\n",
    "plt.subplot(1, 5, 1)\n",
    "plt.imshow(result_from_AE[5].reshape(28,28,1), cmap=plt.cm.gray_r)\n",
    "plt.subplot(1, 5, 2)\n",
    "plt.imshow(result_from_AE[6].reshape(28,28,1), cmap=plt.cm.gray_r)\n",
    "plt.subplot(1, 5, 3)\n",
    "plt.imshow(result_from_AE[7].reshape(28,28,1), cmap=plt.cm.gray_r)\n",
    "plt.subplot(1, 5, 4)\n",
    "plt.imshow(result_from_AE[8].reshape(28,28,1), cmap=plt.cm.gray_r)\n",
    "plt.subplot(1, 5, 5)\n",
    "plt.imshow(result_from_AE[9].reshape(28,28,1), cmap=plt.cm.gray_r)\n",
    "plt.show()"
   ]
  },
  {
   "cell_type": "markdown",
   "metadata": {},
   "source": [
    "좀 더 정량적으로 확인해보기 위해, 각 픽셀값에 대해 절대적인 차이를 계산해 비교해보았습니다. 생각보다 다른 클래스의 이미지를 넣었을 때, 이를 정량적으로만 계산하면 같은 클래스를 입력했을 경우의 복원 성능과 크게 차이를 느끼지 못했습니다."
   ]
  },
  {
   "cell_type": "code",
   "execution_count": 175,
   "metadata": {},
   "outputs": [
    {
     "name": "stdout",
     "output_type": "stream",
     "text": [
      "Score of Same Class Sample 1:  73.48776245117188\n",
      "Score of Same Class Sample 2:  196.47410583496094\n",
      "Score of Same Class Sample 3:  106.1259536743164\n",
      "Score of Same Class Sample 4:  94.63241577148438\n",
      "Score of Same Class Sample 5:  149.58062744140625\n",
      "======================================================================\n",
      "Score of Different Class Sample 1:  103.5946044921875\n",
      "Score of Different Class Sample 2:  121.8653564453125\n",
      "Score of Different Class Sample 3:  79.97097778320312\n",
      "Score of Different Class Sample 4:  112.62454223632812\n",
      "Score of Different Class Sample 5:  89.8310775756836\n"
     ]
    }
   ],
   "source": [
    "ae_score_five = []\n",
    "ae_score_eight = []\n",
    "\n",
    "for i in range(0, 5):\n",
    "    score_f = torch.sum(torch.abs(test_five[i].reshape(28,28) - result_from_AE[i].reshape(28,28))).item()\n",
    "    ae_score_five.append(score_f)\n",
    "    \n",
    "    score_s = torch.sum(torch.abs(test_eight[i].reshape(28,28) - result_from_AE[i+4].reshape(28,28))).item()\n",
    "    ae_score_eight.append(score_s)\n",
    "    \n",
    "\n",
    "for idx, score in enumerate(ae_score_five):\n",
    "    print(f'Score of Same Class Sample {idx+1}: ', score)\n",
    "\n",
    "print('='*70)\n",
    "for idx, score in enumerate(ae_score_eight):\n",
    "    print(f'Score of Different Class Sample {idx+1}: ', score)"
   ]
  },
  {
   "cell_type": "markdown",
   "metadata": {},
   "source": [
    "## 2. Denoising AutoEncoder\n",
    "마찬가지로 학습한 모델의 마지막 epoch에 저장된 가중치들을 가져와 추론에 사용했습니다."
   ]
  },
  {
   "cell_type": "code",
   "execution_count": 156,
   "metadata": {},
   "outputs": [],
   "source": [
    "model_DAE = Denoising_Autoencoder()\n",
    "model_DAE.load_state_dict(torch.load(\"./save_DAE/ae_300.pth\"))\n",
    "model_DAE.eval()\n",
    "\n",
    "result_from_DAE = []\n",
    "for i in sample:\n",
    "    images = test_five[i].unsqueeze_(0)\n",
    "    images = images.view(-1, 28*28)\n",
    "    with torch.no_grad():\n",
    "        _, decoded = model_DAE(images)\n",
    "        result_from_DAE.append(decoded)\n",
    "        \n",
    "for i in sample:\n",
    "    images = test_eight[i].unsqueeze_(0)\n",
    "    images = images.view(-1, 28*28)\n",
    "    with torch.no_grad():\n",
    "        _, decoded = model_DAE(images)\n",
    "        result_from_DAE.append(decoded)"
   ]
  },
  {
   "cell_type": "markdown",
   "metadata": {},
   "source": [
    "앞서 선정한 샘플 데이터들에 대해 추론을 수행한 뒤, 시각화해보았습니다. 시각화의 첫번째 행은 같은 class인 숫자 5를 입력했을 경우 복원한 이미지이며, 두번째 행은 숫자 8에 대한 이미지를 입력했을 경우의 복원 결과입니다. 5에 대해서만 학습했기 때문에 완벽하게 8로 복원하지 못하고 있음을 확인할 수 있습니다."
   ]
  },
  {
   "cell_type": "code",
   "execution_count": 157,
   "metadata": {},
   "outputs": [
    {
     "data": {
      "image/png": "[encoded data removed]",
      "text/plain": [
       "<Figure size 1000x400 with 5 Axes>"
      ]
     },
     "metadata": {},
     "output_type": "display_data"
    },
    {
     "data": {
      "image/png": "[encoded data removed]",
      "text/plain": [
       "<Figure size 1000x400 with 5 Axes>"
      ]
     },
     "metadata": {},
     "output_type": "display_data"
    }
   ],
   "source": [
    "plt.figure(figsize=(10,4))\n",
    "plt.subplot(1, 5, 1)\n",
    "plt.imshow(result_from_DAE[0].reshape(28,28), cmap=plt.cm.gray_r)\n",
    "plt.subplot(1, 5, 2)\n",
    "plt.imshow(result_from_DAE[1].reshape(28,28), cmap=plt.cm.gray_r)\n",
    "plt.subplot(1, 5, 3)\n",
    "plt.imshow(result_from_DAE[2].reshape(28,28), cmap=plt.cm.gray_r)\n",
    "plt.subplot(1, 5, 4)\n",
    "plt.imshow(result_from_DAE[3].reshape(28,28), cmap=plt.cm.gray_r)\n",
    "plt.subplot(1, 5, 5)\n",
    "plt.imshow(result_from_DAE[4].reshape(28,28), cmap=plt.cm.gray_r)\n",
    "\n",
    "plt.figure(figsize=(10,4))\n",
    "plt.subplot(1, 5, 1)\n",
    "plt.imshow(result_from_DAE[5].reshape(28,28), cmap=plt.cm.gray_r)\n",
    "plt.subplot(1, 5, 2)\n",
    "plt.imshow(result_from_DAE[6].reshape(28,28), cmap=plt.cm.gray_r)\n",
    "plt.subplot(1, 5, 3)\n",
    "plt.imshow(result_from_DAE[7].reshape(28,28), cmap=plt.cm.gray_r)\n",
    "plt.subplot(1, 5, 4)\n",
    "plt.imshow(result_from_DAE[8].reshape(28,28), cmap=plt.cm.gray_r)\n",
    "plt.subplot(1, 5, 5)\n",
    "plt.imshow(result_from_DAE[9].reshape(28,28), cmap=plt.cm.gray_r)\n",
    "plt.show()"
   ]
  },
  {
   "cell_type": "markdown",
   "metadata": {},
   "source": [
    "샘플 데이터들의 원본이미지와 복원된 이미지 사이의 정량적인 차이 결과입니다. 전반적으로 숫자만 보았을 경우에는 확연한 차이가 보이지 않습니다."
   ]
  },
  {
   "cell_type": "code",
   "execution_count": 158,
   "metadata": {},
   "outputs": [
    {
     "name": "stdout",
     "output_type": "stream",
     "text": [
      "Score of Same Class Sample 1:  74.03855895996094\n",
      "Score of Same Class Sample 2:  180.28790283203125\n",
      "Score of Same Class Sample 3:  108.30550384521484\n",
      "Score of Same Class Sample 4:  91.17851257324219\n",
      "Score of Same Class Sample 5:  151.12396240234375\n",
      "======================================================================\n",
      "Score of Different Class Sample 1:  113.38031005859375\n",
      "Score of Different Class Sample 2:  118.52909851074219\n",
      "Score of Different Class Sample 3:  109.6365966796875\n",
      "Score of Different Class Sample 4:  116.92364501953125\n",
      "Score of Different Class Sample 5:  87.17839813232422\n"
     ]
    }
   ],
   "source": [
    "dae_score_five = []\n",
    "ae_score_eight = []\n",
    "\n",
    "for i in range(0, 5):\n",
    "    score_f = torch.sum(torch.abs(test_five[i].reshape(28,28) - result_from_DAE[i].reshape(28,28))).item()\n",
    "    dae_score_five.append(score_f)\n",
    "    \n",
    "    score_s = torch.sum(torch.abs(test_eight[i].reshape(28,28) - result_from_DAE[i+4].reshape(28,28))).item()\n",
    "    ae_score_eight.append(score_s)\n",
    "    \n",
    "\n",
    "for idx, score in enumerate(dae_score_five):\n",
    "    print(f'Score of Same Class Sample {idx+1}: ', score)\n",
    "\n",
    "print('='*70)\n",
    "for idx, score in enumerate(ae_score_eight):\n",
    "    print(f'Score of Different Class Sample {idx+1}: ', score)"
   ]
  },
  {
   "cell_type": "markdown",
   "metadata": {},
   "source": [
    "## 3. Convolutional AutoEncoder\n",
    "Conv AE도 마찬가지로 학습한 모델의 마지막 epoch에 저장된 가중치들을 가져와 추론에 사용했습니다."
   ]
  },
  {
   "cell_type": "code",
   "execution_count": 159,
   "metadata": {},
   "outputs": [],
   "source": [
    "model_CAE = Conv_Autoencoder()\n",
    "model_CAE.load_state_dict(torch.load(\"./save_CAE/ae_300.pth\"))\n",
    "model_CAE.eval()\n",
    "\n",
    "result_from_CAE = []\n",
    "for i in sample:\n",
    "    images = test_five[i].unsqueeze_(0)\n",
    "    with torch.no_grad():\n",
    "        _, decoded = model_CAE(images)\n",
    "        result_from_CAE.append(decoded)\n",
    "\n",
    "for i in sample:\n",
    "    images = test_eight[i].unsqueeze_(0)\n",
    "    with torch.no_grad():\n",
    "        _, decoded = model_CAE(images)\n",
    "        result_from_CAE.append(decoded)"
   ]
  },
  {
   "cell_type": "markdown",
   "metadata": {},
   "source": [
    "같은 샘플 데이터들에 대해 추론을 수행한 뒤, 시각화해보았습니다. 시각화의 첫번째 행은 같은 class인 숫자 5를 입력했을 경우 복원한 이미지이며, 두번째 행은 숫자 8에 대한 이미지를 입력했을 경우의 복원 결과입니다. Conv를 활용한 모델의 경우 8에 대한 이미지를 입력했을 때 8에 비슷한 복원을 어느정도 하고 있는 것이 특징입니다."
   ]
  },
  {
   "cell_type": "code",
   "execution_count": 160,
   "metadata": {},
   "outputs": [
    {
     "data": {
      "image/png": "[encoded data removed]",
      "text/plain": [
       "<Figure size 1000x400 with 5 Axes>"
      ]
     },
     "metadata": {},
     "output_type": "display_data"
    },
    {
     "data": {
      "image/png": "[encoded data removed]",
      "text/plain": [
       "<Figure size 1000x400 with 5 Axes>"
      ]
     },
     "metadata": {},
     "output_type": "display_data"
    }
   ],
   "source": [
    "plt.figure(figsize=(10,4))\n",
    "plt.subplot(1, 5, 1)\n",
    "plt.imshow(result_from_CAE[0].reshape(28,28), cmap=plt.cm.gray_r)\n",
    "plt.subplot(1, 5, 2)\n",
    "plt.imshow(result_from_CAE[1].reshape(28,28), cmap=plt.cm.gray_r)\n",
    "plt.subplot(1, 5, 3)\n",
    "plt.imshow(result_from_CAE[2].reshape(28,28), cmap=plt.cm.gray_r)\n",
    "plt.subplot(1, 5, 4)\n",
    "plt.imshow(result_from_CAE[3].reshape(28,28), cmap=plt.cm.gray_r)\n",
    "plt.subplot(1, 5, 5)\n",
    "plt.imshow(result_from_CAE[4].reshape(28,28), cmap=plt.cm.gray_r)\n",
    "\n",
    "plt.figure(figsize=(10,4))\n",
    "plt.subplot(1, 5, 1)\n",
    "plt.imshow(result_from_CAE[5].reshape(28,28), cmap=plt.cm.gray_r)\n",
    "plt.subplot(1, 5, 2)\n",
    "plt.imshow(result_from_CAE[6].reshape(28,28), cmap=plt.cm.gray_r)\n",
    "plt.subplot(1, 5, 3)\n",
    "plt.imshow(result_from_CAE[7].reshape(28,28), cmap=plt.cm.gray_r)\n",
    "plt.subplot(1, 5, 4)\n",
    "plt.imshow(result_from_CAE[8].reshape(28,28), cmap=plt.cm.gray_r)\n",
    "plt.subplot(1, 5, 5)\n",
    "plt.imshow(result_from_CAE[9].reshape(28,28), cmap=plt.cm.gray_r)\n",
    "plt.show()"
   ]
  },
  {
   "cell_type": "markdown",
   "metadata": {},
   "source": [
    "하지만 Conv를 활용한 AutoEncoder 역시 정량적인 평가 결과에서는 크게 차이를 관찰할 수 없었습니다. 물론, 몇몇 샘플들에서는 큰 차이가 있지만, 오히려 같은 샘플을 입력했음에도 복원이 잘 안돼 더 큰 차이가 나는 경우도 존재합니다."
   ]
  },
  {
   "cell_type": "code",
   "execution_count": 163,
   "metadata": {},
   "outputs": [
    {
     "name": "stdout",
     "output_type": "stream",
     "text": [
      "Score of Same Class Sample 1:  74.7293930053711\n",
      "Score of Same Class Sample 2:  184.88082885742188\n",
      "Score of Same Class Sample 3:  106.27662658691406\n",
      "Score of Same Class Sample 4:  94.38346099853516\n",
      "Score of Same Class Sample 5:  150.19039916992188\n",
      "======================================================================\n",
      "Score of Different Class Sample 1:  106.1496810913086\n",
      "Score of Different Class Sample 2:  125.7929916381836\n",
      "Score of Different Class Sample 3:  127.45442199707031\n",
      "Score of Different Class Sample 4:  102.39479064941406\n",
      "Score of Different Class Sample 5:  84.0037841796875\n"
     ]
    }
   ],
   "source": [
    "cae_score_five = []\n",
    "cae_score_eight = []\n",
    "\n",
    "for i in range(0, 5):\n",
    "    score_f = torch.sum(torch.abs(test_five[i].reshape(28,28) - result_from_CAE[i].reshape(28,28))).item()\n",
    "    cae_score_five.append(score_f)\n",
    "    \n",
    "    score_s = torch.sum(torch.abs(test_eight[i].reshape(28,28) - result_from_CAE[i+4].reshape(28,28))).item()\n",
    "    cae_score_eight.append(score_s)\n",
    "    \n",
    "\n",
    "for idx, score in enumerate(cae_score_five):\n",
    "    print(f'Score of Same Class Sample {idx+1}: ', score)\n",
    "\n",
    "print('='*70)\n",
    "for idx, score in enumerate(cae_score_eight):\n",
    "    print(f'Score of Different Class Sample {idx+1}: ', score)"
   ]
  },
  {
   "cell_type": "markdown",
   "metadata": {},
   "source": [
    "## 4. Convolutional Denoising AutoEncoder\n",
    "Conv Denoising AE도 마찬가지로 학습한 모델의 마지막 epoch에 저장된 가중치들을 가져와 추론에 사용했습니다."
   ]
  },
  {
   "cell_type": "code",
   "execution_count": 164,
   "metadata": {},
   "outputs": [],
   "source": [
    "model_CDA = Conv_Denoising_Autoencoder()\n",
    "model_CDA.load_state_dict(torch.load(\"./save_CDAE/ae_300.pth\"))\n",
    "model_CDA.eval()\n",
    "\n",
    "result_from_CDA = []\n",
    "for i in sample:\n",
    "    images = test_five[i].unsqueeze_(0)\n",
    "    with torch.no_grad():\n",
    "        _, decoded = model_CDA(images)\n",
    "        result_from_CDA.append(decoded)\n",
    "        \n",
    "for i in sample:\n",
    "    images = test_eight[i].unsqueeze_(0)\n",
    "    with torch.no_grad():\n",
    "        _, decoded = model_CDA(images)\n",
    "        result_from_CDA.append(decoded)"
   ]
  },
  {
   "cell_type": "markdown",
   "metadata": {},
   "source": [
    "앞서 선정한 샘플 데이터들에 대해 추론을 수행한 뒤, 시각화해보았습니다. 앞서 노이즈를 가하지 않은 경우보다 다른 클래스를 입력했을 때 더 잘 복원하고 있었습니다. "
   ]
  },
  {
   "cell_type": "code",
   "execution_count": 165,
   "metadata": {},
   "outputs": [
    {
     "data": {
      "image/png": "[encoded data removed]",
      "text/plain": [
       "<Figure size 1000x400 with 5 Axes>"
      ]
     },
     "metadata": {},
     "output_type": "display_data"
    },
    {
     "data": {
      "image/png": "[encoded data removed]",
      "text/plain": [
       "<Figure size 1000x400 with 5 Axes>"
      ]
     },
     "metadata": {},
     "output_type": "display_data"
    }
   ],
   "source": [
    "plt.figure(figsize=(10,4))\n",
    "plt.subplot(1, 5, 1)\n",
    "plt.imshow(result_from_CDA[0].reshape(28,28), cmap=plt.cm.gray_r)\n",
    "plt.subplot(1, 5, 2)\n",
    "plt.imshow(result_from_CDA[1].reshape(28,28), cmap=plt.cm.gray_r)\n",
    "plt.subplot(1, 5, 3)\n",
    "plt.imshow(result_from_CDA[2].reshape(28,28), cmap=plt.cm.gray_r)\n",
    "plt.subplot(1, 5, 4)\n",
    "plt.imshow(result_from_CDA[3].reshape(28,28), cmap=plt.cm.gray_r)\n",
    "plt.subplot(1, 5, 5)\n",
    "plt.imshow(result_from_CDA[4].reshape(28,28), cmap=plt.cm.gray_r)\n",
    "\n",
    "plt.figure(figsize=(10,4))\n",
    "plt.subplot(1, 5, 1)\n",
    "plt.imshow(result_from_CDA[5].reshape(28,28), cmap=plt.cm.gray_r)\n",
    "plt.subplot(1, 5, 2)\n",
    "plt.imshow(result_from_CDA[6].reshape(28,28), cmap=plt.cm.gray_r)\n",
    "plt.subplot(1, 5, 3)\n",
    "plt.imshow(result_from_CDA[7].reshape(28,28), cmap=plt.cm.gray_r)\n",
    "plt.subplot(1, 5, 4)\n",
    "plt.imshow(result_from_CDA[8].reshape(28,28), cmap=plt.cm.gray_r)\n",
    "plt.subplot(1, 5, 5)\n",
    "plt.imshow(result_from_CDA[9].reshape(28,28), cmap=plt.cm.gray_r)\n",
    "plt.show()\n",
    "\n",
    "torch.abs(test_eight[0].reshape(28,28) - result_from_CAE[i+4].reshape(28,28))\n"
   ]
  },
  {
   "cell_type": "markdown",
   "metadata": {},
   "source": [
    "정량적으로도 샘플마다의 편차가 커서 같은 클래스를 입력했을 때의 복원 성능과 다른 클래스를 입력했을 때의 복원 성능의 thereshold를 정하기 어려워보입니다."
   ]
  },
  {
   "cell_type": "code",
   "execution_count": 171,
   "metadata": {},
   "outputs": [
    {
     "name": "stdout",
     "output_type": "stream",
     "text": [
      "Score of Same Class Sample 1:  71.9781723022461\n",
      "Score of Same Class Sample 2:  183.72720336914062\n",
      "Score of Same Class Sample 3:  105.71495819091797\n",
      "Score of Same Class Sample 4:  91.36278533935547\n",
      "Score of Same Class Sample 5:  150.002685546875\n",
      "======================================================================\n",
      "Score of Different Class Sample 1:  112.02201843261719\n",
      "Score of Different Class Sample 2:  123.51940155029297\n",
      "Score of Different Class Sample 3:  134.8317108154297\n",
      "Score of Different Class Sample 4:  108.5256576538086\n",
      "Score of Different Class Sample 5:  72.56718444824219\n"
     ]
    }
   ],
   "source": [
    "cda_score_five = []\n",
    "cda_score_eight = []\n",
    "\n",
    "for i in range(0, 5):\n",
    "    score_f = torch.sum(torch.abs(test_five[i].reshape(28,28) - result_from_CDA[i].reshape(28,28))).item()\n",
    "    cda_score_five.append(score_f)\n",
    "    \n",
    "    score_s = torch.sum(torch.abs(test_eight[i].reshape(28,28) - result_from_CDA[i+4].reshape(28,28))).item()\n",
    "    cda_score_eight.append(score_s)\n",
    "    \n",
    "\n",
    "for idx, score in enumerate(cda_score_five):\n",
    "    print(f'Score of Same Class Sample {idx+1}: ', score)\n",
    "\n",
    "print('='*70)\n",
    "for idx, score in enumerate(cda_score_eight):\n",
    "    print(f'Score of Different Class Sample {idx+1}: ', score)"
   ]
  }
 ],
 "metadata": {
  "kernelspec": {
   "display_name": "Python 3.7.13 ('business_analytics')",
   "language": "python",
   "name": "python3"
  },
  "language_info": {
   "codemirror_mode": {
    "name": "ipython",
    "version": 3
   },
   "file_extension": ".py",
   "mimetype": "text/x-python",
   "name": "python",
   "nbconvert_exporter": "python",
   "pygments_lexer": "ipython3",
   "version": "3.7.13"
  },
  "orig_nbformat": 4,
  "vscode": {
   "interpreter": {
    "hash": "c8d066e2227f045f1c8ebfe6d2203de0c1f5667670e18345d0ce0b7069d25a6e"
   }
  }
 },
 "nbformat": 4,
 "nbformat_minor": 2
}
